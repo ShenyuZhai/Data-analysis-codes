{
 "cells": [
  {
   "cell_type": "code",
   "execution_count": 14,
   "metadata": {
    "collapsed": false
   },
   "outputs": [],
   "source": [
    "\"\"\" Module for importing PraireView5.0+ generated .csv files.\"\"\"\n",
    "import matplotlib\n",
    "import os\n",
    "import pandas as pd\n",
    "import matplotlib.pyplot as plt\n",
    "import numpy as np\n",
    "import utilities as util\n",
    "from scipy.optimize import curve_fit\n",
    "from lxml import etree\n",
    "from glob import glob\n",
    "%matplotlib inline"
   ]
  },
  {
   "cell_type": "code",
   "execution_count": 15,
   "metadata": {
    "collapsed": true
   },
   "outputs": [],
   "source": [
    "def _get_ephys_vals(element):\n",
    "    ch_type = element.find('.//PatchclampChannel').text\n",
    "\n",
    "    if ch_type == '0':\n",
    "        unit = element.find('.//UnitName').text\n",
    "        divisor = float(element.find('.//Divisor').text)\n",
    "\n",
    "        return 'primary', {'unit': unit, 'divisor': divisor}\n",
    "\n",
    "    elif ch_type == '1':\n",
    "        unit = element.find('.//UnitName').text\n",
    "        divisor = float(element.find('.//Divisor').text)\n",
    "\n",
    "        return 'secondary', {'unit': unit, 'divisor': divisor}"
   ]
  },
  {
   "cell_type": "code",
   "execution_count": 16,
   "metadata": {
    "collapsed": true
   },
   "outputs": [],
   "source": [
    "def parse_xml(filename):\n",
    "    tree = etree.parse(filename)\n",
    "    # find all elements associated with enabled channels\n",
    "    enabled_ch = tree.xpath('.//Enabled[text()=\"true\"]')\n",
    "\n",
    "    file_attr = {}\n",
    "    ch_names = []\n",
    "    for ch in enabled_ch:\n",
    "        parent = ch.getparent()\n",
    "        if parent.find('.//Type').text == 'Physical':\n",
    "            clamp_device = parent.find('.//PatchclampDevice').text\n",
    "\n",
    "            if clamp_device is not None:\n",
    "                name, ephys_vals = _get_ephys_vals(parent)\n",
    "                file_attr[name] = ephys_vals\n",
    "\n",
    "            else:\n",
    "                name = parent.find('.//Name').text\n",
    "\n",
    "            ch_names.append(name.capitalize())\n",
    "\n",
    "    file_attr['channels'] = ch_names\n",
    "    # gets sampling rate\n",
    "    file_attr['sampling'] = int((tree.find('.//Rate')).text)\n",
    "    # gets recording time, converts to sec\n",
    "    file_attr['duration'] = (int((tree.find('.//AcquisitionTime')).text))#/1000\n",
    "\n",
    "    # finds the voltage recording csv file name\n",
    "    datafile = (tree.find('.//DataFile')).text\n",
    "    # finds the linescan profile file name (if doesn't exist, will be None)\n",
    "    ls_file = (tree.find('.//AssociatedLinescanProfileFile')).text\n",
    "\n",
    "    # If ls_file is none this could mean that there is no linescan associated\n",
    "    # with that voltage recording file or that the file passed to parse_vr is\n",
    "    # actually a LineScan data file and therefore should be passed to ls_file.\n",
    "    # In that scenario there is no voltage recording file, so vo_file is None\n",
    "    if ls_file is None:\n",
    "        if \"LineScan\" in datafile:\n",
    "            ls_file = datafile\n",
    "            vo_file = None\n",
    "        elif \"LineScan\" not in datafile:\n",
    "            vo_file = datafile\n",
    "    else:\n",
    "        vo_file = datafile\n",
    "\n",
    "    file_attr['voltage recording file'] = vo_file\n",
    "    file_attr['linescan file'] = ls_file\n",
    "\n",
    "    return file_attr"
   ]
  },
  {
   "cell_type": "code",
   "execution_count": 17,
   "metadata": {
    "collapsed": true
   },
   "outputs": [],
   "source": [
    "def import_vr_csv(filename, col_names, primary_div=1, secondary_div=1):\n",
    "    \"\"\"\n",
    "    Reads voltage recording .csv file into a pandas dataframe.\n",
    "    Will convert Primary and Secondary channels to appropriate values if those\n",
    "    channels are in the file.\n",
    "    Returns a dataframe\n",
    "    \"\"\"\n",
    "\n",
    "    df = pd.read_csv(filename, names=col_names, skiprows=1)\n",
    "    #df.Time /= 1000\n",
    "\n",
    "    if \"Primary\" in df.columns:\n",
    "        df.Primary /= primary_div\n",
    "    if \"Secondary\" in df.columns:\n",
    "        df.Secondary /= secondary_div\n",
    "\n",
    "    return df\n",
    "\n"
   ]
  },
  {
   "cell_type": "code",
   "execution_count": 18,
   "metadata": {
    "collapsed": true
   },
   "outputs": [],
   "source": [
    "def import_folder(folder):\n",
    "    \"\"\"Collapse entire data folder into multidimensional dataframe\n",
    "    Returns a dictionary with \"voltage recording\", \"linescan\" and\n",
    "    \"file attributes\" keys associate with 2 dataframes and a dictionary\n",
    "    (respective).\n",
    "    \"\"\"\n",
    "    vr_xmls = glob(os.path.join(folder, '*_VoltageRecording_*.xml'))\n",
    "\n",
    "    if any(vr_xmls):\n",
    "        data_vr = []\n",
    "        data_ls = []\n",
    "        sweep_list = []\n",
    "        file_attr = {}\n",
    "        output = {}\n",
    "\n",
    "        for i, file in enumerate(vr_xmls):\n",
    "            sweep = 'Sweep' + str(i+1).zfill(4)\n",
    "            sweep_list.append(sweep)\n",
    "            file_vals = parse_xml(file)\n",
    "\n",
    "            if file_vals['voltage recording file'] is not None:\n",
    "                vr_filename = os.path.join(folder,\n",
    "                                           (file_vals['voltage recording file']\n",
    "                                            + '.csv'))\n",
    "                col_names = ['Time'] + file_vals['channels']\n",
    "                primary_divisor = file_vals['primary']['divisor']\n",
    "                #secondary_divisor = file_vals['secondary']['divisor']\n",
    "\n",
    "                df_vr = import_vr_csv(vr_filename, col_names, primary_divisor,1)\n",
    "\n",
    "                data_vr.append(df_vr)\n",
    "\n",
    "            if file_vals['linescan file'] is not None:\n",
    "                ls_filename = os.path.join(folder,\n",
    "                                           (file_vals['linescan file']))\n",
    "\n",
    "                df_ls = import_ls_csv(ls_filename)\n",
    "\n",
    "                data_ls.append(df_ls)\n",
    "\n",
    "            file_attr['File'+str(i+1)] = file_vals\n",
    "\n",
    "        if data_vr:\n",
    "            output[\"voltage recording\"] = pd.concat(data_vr, keys=sweep_list,\n",
    "                                                    names=['Sweep', 'Index'])\n",
    "        elif not data_vr:\n",
    "            output[\"voltage recording\"] = None\n",
    "        if data_ls:\n",
    "            output[\"linescan\"] = pd.concat(data_ls, keys=sweep_list,\n",
    "                                           names=['Sweep', 'Index'])\n",
    "        elif not data_ls:\n",
    "            output[\"linescan\"] = None\n",
    "        output[\"file attributes\"] = file_attr\n",
    "\n",
    "    else:\n",
    "        output = {\"voltage recording\": None, \"linescan\": None,\n",
    "                  \"file attributes\": None}\n",
    "\n",
    "    return output"
   ]
  },
  {
   "cell_type": "code",
   "execution_count": 19,
   "metadata": {
    "collapsed": false
   },
   "outputs": [],
   "source": [
    "vr_folders = glob(os.path.join('/Users/shenyuzhai/Desktop/in_progress/', 'cell*-***'))\n",
    "vr_folders = sorted(vr_folders)\n",
    "df_vr_list = []\n",
    "trace_list = []\n",
    "for i, folder in enumerate(vr_folders):\n",
    "        #col_names = ['Time'] + ['Primary']\n",
    "        df_vr = import_folder(vr_folders[i])['voltage recording']\n",
    "        df_vr_list.append(df_vr)\n",
    "        trace = 'celli-' + str(i+1).zfill(3)\n",
    "        trace_list.append(trace)\n",
    "        #aligneddata = pd.concat(df_vr_list, keys=trace_list)"
   ]
  },
  {
   "cell_type": "code",
   "execution_count": 28,
   "metadata": {
    "collapsed": false
   },
   "outputs": [
    {
     "data": {
      "text/plain": [
       "(-100, -80)"
      ]
     },
     "execution_count": 28,
     "metadata": {},
     "output_type": "execute_result"
    },
    {
     "data": {
      "image/png": "[encoded data removed]",
      "text/plain": [
       "<matplotlib.figure.Figure at 0x110c31898>"
      ]
     },
     "metadata": {},
     "output_type": "display_data"
    }
   ],
   "source": [
    "#Plot one trace to see\n",
    "plt.figure(figsize=(10,5))\n",
    "plt.plot(df_vr_list[5].Time, df_vr_list[106].Primary)\n",
    "plt.ylabel('EPSP (mV)', fontsize=16)\n",
    "plt.xlabel('Time (ms)', fontsize=16)\n",
    "plt.xlim(0,600)\n",
    "plt.ylim(-100,-80)"
   ]
  },
  {
   "cell_type": "code",
   "execution_count": 21,
   "metadata": {
    "collapsed": false
   },
   "outputs": [],
   "source": [
    "def analyze_EPSC(df, bsl_start, bsl_end, start_time, end_time, pulse_start):\n",
    "    \"\"\"\n",
    "    df: data as pandas dataframe\n",
    "        should contain Time and Primary columns\n",
    "    bsl_start: designates beginning of the time window for baseline measurement\n",
    "    bsl_end: designates end of the time window for baseline measurement\n",
    "    start_time: positive number (time, ms)\n",
    "        designates beginning of time window for EPSC measurement\n",
    "    end_time: positive number (time, ms)\n",
    "        designates end of time window for EPSC measurement\n",
    "    pulse_start: designates the start of -5mV pulse for parameter measurements\n",
    "    \"\"\"\n",
    "    # have to make copy of df to not modify original df with calculation\n",
    "    data = df.copy()\n",
    "    I_holding = data.Primary[(data.Time >= bsl_start) &\n",
    "                              (data.Time <= bsl_end)].mean()\n",
    "    EPSC_df= (data.Primary[(data.Time>=start_time) & (data.Time <=end_time)].max())-I_holding\n",
    "   \n",
    "    '''conversions - pulse_amp is in mVs, data.Primary is in pAs'''\n",
    "    #calculate pre-pulse Vm\n",
    "    I_pre = data.Primary[(data.Time >= (pulse_start-101)) &\n",
    "                             (data.Time <= (pulse_start-1))].mean()\n",
    "    #calculate steady state Vm\n",
    "    I_ss = data.Primary[(data.Time >= (pulse_start+400)) &\n",
    "                              (data.Time <= (pulse_start+500))].mean()\n",
    "    # calculate delta_i -- i.e. difference between baseline current amplitude and steady-state current amplitude\n",
    "    delta_i = (I_ss-I_pre)\n",
    "    cap_df = util.find_peak(data, pulse_start, pulse_start+20, 'min')\n",
    "    #cap_peak = cap_df['Peak Amp'].values[0]-I_holding\n",
    "    # resistance calculations\n",
    "    #ra = -5000/cap_peak\n",
    "    Rin = delta_i/-0.02\n",
    "    result_list = [EPSC_df, I_holding, Rin]\n",
    "    return result_list"
   ]
  },
  {
   "cell_type": "code",
   "execution_count": 22,
   "metadata": {
    "collapsed": false
   },
   "outputs": [
    {
     "data": {
      "text/plain": [
       "[3.4125123846803547, -89.502600275305355, 33.903169584322512]"
      ]
     },
     "execution_count": 22,
     "metadata": {},
     "output_type": "execute_result"
    }
   ],
   "source": [
    "analyze_EPSC(df_vr_list[30], 1, 49, 52, 200, 500)"
   ]
  },
  {
   "cell_type": "code",
   "execution_count": 23,
   "metadata": {
    "collapsed": false
   },
   "outputs": [
    {
     "data": {
      "text/plain": [
       "137"
      ]
     },
     "execution_count": 23,
     "metadata": {},
     "output_type": "execute_result"
    }
   ],
   "source": [
    "len(df_vr_list)"
   ]
  },
  {
   "cell_type": "code",
   "execution_count": 24,
   "metadata": {
    "collapsed": false
   },
   "outputs": [],
   "source": [
    "result_list = []\n",
    "for i in range(len(df_vr_list)):\n",
    "    result = analyze_EPSC(df_vr_list[i], 1, 49, 52, 100, 500)\n",
    "    result_list.append(result)\n",
    "#result_list"
   ]
  },
  {
   "cell_type": "code",
   "execution_count": 25,
   "metadata": {
    "collapsed": false
   },
   "outputs": [],
   "source": [
    "bsl=8\n",
    "start_treatment_after=40\n",
    "timepoint_list = []\n",
    "for i in range(len(df_vr_list)):\n",
    "    timepoint = (i/3)-((start_treatment_after/3)-bsl)\n",
    "    timepoint_list.append(timepoint)\n",
    "    \n",
    "df1=pd.DataFrame(result_list,  columns = ['EPSP', 'Ih', 'Rin'])\n",
    "df1['Time'] = pd.Series(timepoint_list)\n",
    "df1 = df1[['Time', 'EPSP', 'Rin', 'Ih']]"
   ]
  },
  {
   "cell_type": "code",
   "execution_count": 26,
   "metadata": {
    "collapsed": false,
    "scrolled": true
   },
   "outputs": [
    {
     "name": "stderr",
     "output_type": "stream",
     "text": [
      "/Applications/anaconda/lib/python3.5/site-packages/matplotlib/collections.py:590: FutureWarning: elementwise comparison failed; returning scalar instead, but in the future will perform elementwise comparison\n",
      "  if self._edgecolors == str('face'):\n"
     ]
    },
    {
     "data": {
      "image/png": "[encoded data removed]",
      "text/plain": [
       "<matplotlib.figure.Figure at 0x110c2ff28>"
      ]
     },
     "metadata": {},
     "output_type": "display_data"
    }
   ],
   "source": [
    "import matplotlib.gridspec as gridspec\n",
    "fig = plt.figure(figsize = (16,6))\n",
    "gs = gridspec.GridSpec(1, 2, width_ratios=[1, 1], wspace=0.2)\n",
    "\n",
    "ax1 = plt.subplot(gs[0])\n",
    "ax1.scatter(df1['Time'], df1['EPSP'])\n",
    "#ax1.plt((10, 0), (10, 10), color=\"#aaaaaa\")\n",
    "ax1.set_xlim(0,40)\n",
    "ax1.set_ylim(0,15)\n",
    "ax1.plot([bsl,bsl], (0,200))\n",
    "# hide top and right axes\n",
    "ax1.spines['top'].set_visible(False)\n",
    "ax1.spines['right'].set_visible(False)\n",
    "plt.tick_params(which='both', top='off', right='off')\n",
    "\n",
    "ax1.get_yaxis().set_tick_params(which=\"both\", direction=\"in\", length=6)\n",
    "ax1.get_xaxis().set_tick_params(which=\"both\", direction=\"in\", length=6)\n",
    "\n",
    "ax2 = plt.subplot(gs[1])\n",
    "ax2.scatter(df1['Time'], df1['Rin'])\n",
    "ax2.set_xlim(0,40)\n",
    "ax2.set_ylim(0,300)\n",
    "\n",
    "# hide top and right axes\n",
    "ax2.spines['top'].set_visible(False)\n",
    "ax2.spines['right'].set_visible(False)\n",
    "plt.tick_params(which='both', top='off', right='off')\n",
    "\n",
    "#ax2.set_yticks([5, 10, 15, 20])\n",
    "#ax2.set_yticks([x*5 for x in range(1, 4)], \n",
    "#              minor=True)\n",
    "ax2.get_yaxis().set_tick_params(which=\"both\", direction=\"in\", length=6)\n",
    "ax2.get_xaxis().set_tick_params(which=\"both\", direction=\"in\", length=6)\n",
    "#plt.show()\n",
    "plt.savefig('LTD.pdf')\n",
    "df1.to_csv('result.csv', index=True, header=True)"
   ]
  },
  {
   "cell_type": "code",
   "execution_count": null,
   "metadata": {
    "collapsed": false
   },
   "outputs": [],
   "source": []
  },
  {
   "cell_type": "code",
   "execution_count": null,
   "metadata": {
    "collapsed": true
   },
   "outputs": [],
   "source": []
  }
 ],
 "metadata": {
  "kernelspec": {
   "display_name": "Python 3",
   "language": "python",
   "name": "python3"
  },
  "language_info": {
   "codemirror_mode": {
    "name": "ipython",
    "version": 3
   },
   "file_extension": ".py",
   "mimetype": "text/x-python",
   "name": "python",
   "nbconvert_exporter": "python",
   "pygments_lexer": "ipython3",
   "version": "3.5.0"
  }
 },
 "nbformat": 4,
 "nbformat_minor": 0
}
