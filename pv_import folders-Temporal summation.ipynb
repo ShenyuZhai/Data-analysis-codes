{
 "cells": [
  {
   "cell_type": "code",
   "execution_count": 175,
   "metadata": {
    "collapsed": false
   },
   "outputs": [],
   "source": [
    "\"\"\" Module for importing PraireView5.0+ generated .csv files.\"\"\"\n",
    "import matplotlib\n",
    "import os\n",
    "import pandas as pd\n",
    "import matplotlib.pyplot as plt\n",
    "import numpy as np\n",
    "import utilities as util\n",
    "from scipy.optimize import curve_fit\n",
    "from lxml import etree\n",
    "from glob import glob\n",
    "%matplotlib inline"
   ]
  },
  {
   "cell_type": "code",
   "execution_count": 176,
   "metadata": {
    "collapsed": true
   },
   "outputs": [],
   "source": [
    "def _get_ephys_vals(element):\n",
    "    ch_type = element.find('.//PatchclampChannel').text\n",
    "\n",
    "    if ch_type == '0':\n",
    "        unit = element.find('.//UnitName').text\n",
    "        divisor = float(element.find('.//Divisor').text)\n",
    "\n",
    "        return 'primary', {'unit': unit, 'divisor': divisor}\n",
    "\n",
    "    elif ch_type == '1':\n",
    "        unit = element.find('.//UnitName').text\n",
    "        divisor = float(element.find('.//Divisor').text)\n",
    "\n",
    "        return 'secondary', {'unit': unit, 'divisor': divisor}"
   ]
  },
  {
   "cell_type": "code",
   "execution_count": 177,
   "metadata": {
    "collapsed": true
   },
   "outputs": [],
   "source": [
    "def parse_xml(filename):\n",
    "    tree = etree.parse(filename)\n",
    "    # find all elements associated with enabled channels\n",
    "    enabled_ch = tree.xpath('.//Enabled[text()=\"true\"]')\n",
    "\n",
    "    file_attr = {}\n",
    "    ch_names = []\n",
    "    for ch in enabled_ch:\n",
    "        parent = ch.getparent()\n",
    "        if parent.find('.//Type').text == 'Physical':\n",
    "            clamp_device = parent.find('.//PatchclampDevice').text\n",
    "\n",
    "            if clamp_device is not None:\n",
    "                name, ephys_vals = _get_ephys_vals(parent)\n",
    "                file_attr[name] = ephys_vals\n",
    "\n",
    "            else:\n",
    "                name = parent.find('.//Name').text\n",
    "\n",
    "            ch_names.append(name.capitalize())\n",
    "\n",
    "    file_attr['channels'] = ch_names\n",
    "    # gets sampling rate\n",
    "    file_attr['sampling'] = int((tree.find('.//Rate')).text)\n",
    "    # gets recording time, converts to sec\n",
    "    file_attr['duration'] = (int((tree.find('.//AcquisitionTime')).text))#/1000\n",
    "\n",
    "    # finds the voltage recording csv file name\n",
    "    datafile = (tree.find('.//DataFile')).text\n",
    "    # finds the linescan profile file name (if doesn't exist, will be None)\n",
    "    ls_file = (tree.find('.//AssociatedLinescanProfileFile')).text\n",
    "\n",
    "    # If ls_file is none this could mean that there is no linescan associated\n",
    "    # with that voltage recording file or that the file passed to parse_vr is\n",
    "    # actually a LineScan data file and therefore should be passed to ls_file.\n",
    "    # In that scenario there is no voltage recording file, so vo_file is None\n",
    "    if ls_file is None:\n",
    "        if \"LineScan\" in datafile:\n",
    "            ls_file = datafile\n",
    "            vo_file = None\n",
    "        elif \"LineScan\" not in datafile:\n",
    "            vo_file = datafile\n",
    "    else:\n",
    "        vo_file = datafile\n",
    "\n",
    "    file_attr['voltage recording file'] = vo_file\n",
    "    file_attr['linescan file'] = ls_file\n",
    "\n",
    "    return file_attr"
   ]
  },
  {
   "cell_type": "code",
   "execution_count": 178,
   "metadata": {
    "collapsed": true
   },
   "outputs": [],
   "source": [
    "def import_vr_csv(filename, col_names, primary_div=1, secondary_div=1):\n",
    "    \"\"\"\n",
    "    Reads voltage recording .csv file into a pandas dataframe.\n",
    "    Will convert Primary and Secondary channels to appropriate values if those\n",
    "    channels are in the file.\n",
    "    Returns a dataframe\n",
    "    \"\"\"\n",
    "\n",
    "    df = pd.read_csv(filename, names=col_names, skiprows=1)\n",
    "    #df.Time /= 1000\n",
    "\n",
    "    if \"Primary\" in df.columns:\n",
    "        df.Primary /= primary_div\n",
    "    if \"Secondary\" in df.columns:\n",
    "        df.Secondary /= secondary_div\n",
    "\n",
    "    return df\n",
    "\n"
   ]
  },
  {
   "cell_type": "code",
   "execution_count": 179,
   "metadata": {
    "collapsed": true
   },
   "outputs": [],
   "source": [
    "def import_folder(folder):\n",
    "    \"\"\"Collapse entire data folder into multidimensional dataframe\n",
    "    Returns a dictionary with \"voltage recording\", \"linescan\" and\n",
    "    \"file attributes\" keys associate with 2 dataframes and a dictionary\n",
    "    (respective).\n",
    "    \"\"\"\n",
    "    vr_xmls = glob(os.path.join(folder, '*_VoltageRecording_*.xml'))\n",
    "\n",
    "    if any(vr_xmls):\n",
    "        data_vr = []\n",
    "        data_ls = []\n",
    "        sweep_list = []\n",
    "        file_attr = {}\n",
    "        output = {}\n",
    "\n",
    "        for i, file in enumerate(vr_xmls):\n",
    "            sweep = 'Sweep' + str(i+1).zfill(4)\n",
    "            sweep_list.append(sweep)\n",
    "            file_vals = parse_xml(file)\n",
    "\n",
    "            if file_vals['voltage recording file'] is not None:\n",
    "                vr_filename = os.path.join(folder,\n",
    "                                           (file_vals['voltage recording file']\n",
    "                                            + '.csv'))\n",
    "                col_names = ['Time'] + file_vals['channels']\n",
    "                primary_divisor = file_vals['primary']['divisor']\n",
    "                #secondary_divisor = file_vals['secondary']['divisor']\n",
    "\n",
    "                df_vr = import_vr_csv(vr_filename, col_names, primary_divisor,1)\n",
    "\n",
    "                data_vr.append(df_vr)\n",
    "\n",
    "            if file_vals['linescan file'] is not None:\n",
    "                ls_filename = os.path.join(folder,\n",
    "                                           (file_vals['linescan file']))\n",
    "\n",
    "                df_ls = import_ls_csv(ls_filename)\n",
    "\n",
    "                data_ls.append(df_ls)\n",
    "\n",
    "            file_attr['File'+str(i+1)] = file_vals\n",
    "\n",
    "        if data_vr:\n",
    "            output[\"voltage recording\"] = pd.concat(data_vr, keys=sweep_list,\n",
    "                                                    names=['Sweep', 'Index'])\n",
    "        elif not data_vr:\n",
    "            output[\"voltage recording\"] = None\n",
    "        if data_ls:\n",
    "            output[\"linescan\"] = pd.concat(data_ls, keys=sweep_list,\n",
    "                                           names=['Sweep', 'Index'])\n",
    "        elif not data_ls:\n",
    "            output[\"linescan\"] = None\n",
    "        output[\"file attributes\"] = file_attr\n",
    "\n",
    "    else:\n",
    "        output = {\"voltage recording\": None, \"linescan\": None,\n",
    "                  \"file attributes\": None}\n",
    "\n",
    "    return output"
   ]
  },
  {
   "cell_type": "code",
   "execution_count": 180,
   "metadata": {
    "collapsed": false
   },
   "outputs": [],
   "source": [
    "vr_folders = glob(os.path.join('/Users/shenyuzhai/Desktop/in_progress/', 'cell1_ctr_40Hz-0**'))\n",
    "df_vr_list = []\n",
    "trace_list = []\n",
    "for i, folder in enumerate(vr_folders):\n",
    "        col_names = ['Time'] + ['Primary']\n",
    "        df_vr = import_folder(vr_folders[i])['voltage recording']\n",
    "        df_vr_list.append(df_vr)\n",
    "        trace = 'celli-' + str(i+1).zfill(3)\n",
    "        trace_list.append(trace)\n",
    "        aligneddata = pd.concat(df_vr_list, keys=trace_list)\n",
    "\n",
    "temp_vr_all = aligneddata.copy()\n",
    "vr_avg = temp_vr_all.groupby(level=2).mean()\n",
    "#vr_avg\n"
   ]
  },
  {
   "cell_type": "code",
   "execution_count": null,
   "metadata": {
    "collapsed": true
   },
   "outputs": [],
   "source": []
  },
  {
   "cell_type": "code",
   "execution_count": 181,
   "metadata": {
    "collapsed": false
   },
   "outputs": [
    {
     "data": {
      "image/png": "[encoded data removed]",
      "text/plain": [
       "<matplotlib.figure.Figure at 0x11974c710>"
      ]
     },
     "metadata": {},
     "output_type": "display_data"
    }
   ],
   "source": [
    "#Plot vr_avg \n",
    "plt.figure(figsize=(10,5))\n",
    "plt.plot(vr_avg.Time, vr_avg.Primary)\n",
    "plt.ylabel('Vm (mV)', fontsize=16)\n",
    "plt.xlabel('Time (ms)', fontsize=16)\n",
    "plt.ylim(-95,-65)\n",
    "plt.xlim(0,400)\n",
    "plt.savefig('temporal summation_UL.pdf')"
   ]
  },
  {
   "cell_type": "code",
   "execution_count": 182,
   "metadata": {
    "collapsed": false
   },
   "outputs": [],
   "source": [
    "#Plot individual trace to see\n",
    "#plt.figure(figsize=(10,5))\n",
    "#plt.plot(df_vr_list[1].Time, df_vr_list[1].Primary)\n",
    "#plt.ylabel('Vm (mV)', fontsize=16)\n",
    "#plt.xlabel('Time (ms)', fontsize=16)\n",
    "#plt.ylim(-95,-75)\n",
    "#plt.xlim(55,75)"
   ]
  },
  {
   "cell_type": "code",
   "execution_count": 183,
   "metadata": {
    "collapsed": true
   },
   "outputs": [],
   "source": [
    "def temporal_summation(df, bsl_start, bsl_end, start_time1, end_time1, start_time2, end_time2, start_time5, end_time5):\n",
    "    \"\"\"\n",
    "    df: data as pandas dataframe\n",
    "        should contain Time and Primary columns\n",
    "    bsl_start: designates beginning of the time window for baseline measurement\n",
    "    bsl_end: designates end of the time window for baseline measurement\n",
    "    start_time: positive number (time, ms)\n",
    "        designates beginning of time window for EPSP measurement\n",
    "    end_time: positive number (time, ms)\n",
    "        designates end of time window for EPSP measurement\n",
    "    \"\"\"\n",
    "    # have to make copy of df to not modify original df with calculation\n",
    "    data = df.copy()\n",
    "    X = data.Time\n",
    "    bsl_V = data.Primary[(data.Time >= bsl_start) &\n",
    "                              (data.Time <= bsl_end)].mean()\n",
    "    EPSP1= (data.Primary[(data.Time>=start_time1) & (data.Time <=end_time1)].max())-bsl_V\n",
    "    EPSP2= (data.Primary[(data.Time>=start_time2) & (data.Time <=end_time2)].max())-bsl_V\n",
    "    EPSP5= (data.Primary[(data.Time>=start_time5) & (data.Time <=end_time5)].max())-bsl_V\n",
    "    EPSP_ratio = EPSP5/EPSP1\n",
    "    PPR = EPSP2/EPSP1\n",
    "    result_list = pd.DataFrame(data = [bsl_V, EPSP1, EPSP_ratio, PPR], index = ['Baseline', 'EPSP1', 'EPSP5/EPSP1', 'PPR'], )\n",
    "    return result_list"
   ]
  },
  {
   "cell_type": "code",
   "execution_count": 184,
   "metadata": {
    "collapsed": false
   },
   "outputs": [
    {
     "data": {
      "text/html": [
       "<div>\n",
       "<table border=\"1\" class=\"dataframe\">\n",
       "  <thead>\n",
       "    <tr style=\"text-align: right;\">\n",
       "      <th></th>\n",
       "      <th>0</th>\n",
       "    </tr>\n",
       "  </thead>\n",
       "  <tbody>\n",
       "    <tr>\n",
       "      <th>Baseline</th>\n",
       "      <td>-90.898129</td>\n",
       "    </tr>\n",
       "    <tr>\n",
       "      <th>EPSP1</th>\n",
       "      <td>9.675595</td>\n",
       "    </tr>\n",
       "    <tr>\n",
       "      <th>EPSP5/EPSP1</th>\n",
       "      <td>0.584450</td>\n",
       "    </tr>\n",
       "    <tr>\n",
       "      <th>PPR</th>\n",
       "      <td>0.818641</td>\n",
       "    </tr>\n",
       "  </tbody>\n",
       "</table>\n",
       "</div>"
      ],
      "text/plain": [
       "                     0\n",
       "Baseline    -90.898129\n",
       "EPSP1         9.675595\n",
       "EPSP5/EPSP1   0.584450\n",
       "PPR           0.818641"
      ]
     },
     "execution_count": 184,
     "metadata": {},
     "output_type": "execute_result"
    }
   ],
   "source": [
    "#for 20hz trains:\n",
    "#temporal_summation(vr_avg, 0,50,55,80,105,130,255,280)\n",
    "\n",
    "#for 40hz trains:\n",
    "temporal_summation(vr_avg, 0,50,55,70,80,95,155,180)"
   ]
  },
  {
   "cell_type": "code",
   "execution_count": null,
   "metadata": {
    "collapsed": true
   },
   "outputs": [],
   "source": []
  },
  {
   "cell_type": "code",
   "execution_count": null,
   "metadata": {
    "collapsed": true
   },
   "outputs": [],
   "source": []
  }
 ],
 "metadata": {
  "kernelspec": {
   "display_name": "Python 3",
   "language": "python",
   "name": "python3"
  },
  "language_info": {
   "codemirror_mode": {
    "name": "ipython",
    "version": 3
   },
   "file_extension": ".py",
   "mimetype": "text/x-python",
   "name": "python",
   "nbconvert_exporter": "python",
   "pygments_lexer": "ipython3",
   "version": "3.5.0"
  }
 },
 "nbformat": 4,
 "nbformat_minor": 0
}
